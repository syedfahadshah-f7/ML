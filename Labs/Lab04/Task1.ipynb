{
 "cells": [
  {
   "cell_type": "code",
   "execution_count": 10,
   "id": "21abaa9e",
   "metadata": {},
   "outputs": [],
   "source": [
    "import pandas as pd\n",
    "import matplotlib.pyplot as plt\n",
    "import numpy as np\n",
    "import seaborn as snb\n",
    "from sklearn.tree import DecisionTreeClassifier\n",
    "from sklearn.model_selection import train_test_split\n",
    "from sklearn.preprocessing import LabelEncoder,StandardScaler,PowerTransformer\n",
    "from sklearn.metrics import accuracy_score\n",
    "import copy\n",
    "import math"
   ]
  },
  {
   "cell_type": "code",
   "execution_count": 2,
   "id": "1d8181b2",
   "metadata": {},
   "outputs": [],
   "source": [
    "df1 = pd.read_csv(r'D:\\Sem 5\\ML LABS\\DataSets\\cancer_patient.csv')\n",
    "df2 = pd.read_csv(r'D:\\Sem 5\\ML LABS\\DataSets\\Heart.csv')"
   ]
  },
  {
   "cell_type": "code",
   "execution_count": 3,
   "id": "21b0ced1",
   "metadata": {},
   "outputs": [],
   "source": [
    "gini = DecisionTreeClassifier(criterion = 'gini')\n",
    "giniP = DecisionTreeClassifier(criterion='gini', ccp_alpha=0.015)\n",
    "\n",
    "entropy = DecisionTreeClassifier(criterion = 'entropy')\n",
    "entropyP = DecisionTreeClassifier(criterion='entropy', ccp_alpha=0.015)"
   ]
  },
  {
   "cell_type": "code",
   "execution_count": 5,
   "id": "99b0f0f8",
   "metadata": {},
   "outputs": [],
   "source": [
    "df1.drop(columns=['index','Patient Id'],inplace = True)\n",
    "le = LabelEncoder()\n",
    "df1['Level'] = le.fit_transform(df1['Level'])"
   ]
  },
  {
   "cell_type": "code",
   "execution_count": 7,
   "id": "f82bd54b",
   "metadata": {},
   "outputs": [],
   "source": [
    "df1y = df1.pop('Level')\n",
    "df1x = df1\n",
    "\n",
    "df2y = df2.pop('target')\n",
    "df2x = df2\n"
   ]
  },
  {
   "cell_type": "code",
   "execution_count": 9,
   "id": "e02118a6",
   "metadata": {},
   "outputs": [],
   "source": [
    "df1x_train, df1x_test, df1y_train, df1y_test = train_test_split(df1x,df1y,train_size=0.8,random_state=0,stratify=df1y)\n",
    "df1x_train, df1x_val, df1y_train, df1y_val = train_test_split(df1x_train,df1y_train,train_size=0.7,random_state=0,stratify=df1y_train)\n",
    "\n",
    "df2x_train, df2x_test, df2y_train, df2y_test = train_test_split(df2x,df2y,train_size=0.8,random_state=0,stratify=df2y)\n",
    "df2x_train, df2x_val, df2y_train, df2y_val = train_test_split(df2x_train,df2y_train,train_size=0.7,random_state=0,stratify=df2y_train)"
   ]
  },
  {
   "cell_type": "code",
   "execution_count": 11,
   "id": "d7d6fc2a",
   "metadata": {},
   "outputs": [
    {
     "name": "stdout",
     "output_type": "stream",
     "text": [
      "                                    Dataset1 Training Accuracy  \\\n",
      "DT using gini (without pruning)                            1.0   \n",
      "DT using gini (with pruning)                               1.0   \n",
      "DT using entropy (without pruning)                         1.0   \n",
      "DT using entropy (with pruning)                            1.0   \n",
      "\n",
      "                                    Dataset1 Testing Accuracy  \\\n",
      "DT using gini (without pruning)                           1.0   \n",
      "DT using gini (with pruning)                              1.0   \n",
      "DT using entropy (without pruning)                        1.0   \n",
      "DT using entropy (with pruning)                           1.0   \n",
      "\n",
      "                                    Dataset2 Training Accuracy  \\\n",
      "DT using gini (without pruning)                       1.000000   \n",
      "DT using gini (with pruning)                          0.844948   \n",
      "DT using entropy (without pruning)                    1.000000   \n",
      "DT using entropy (with pruning)                       0.942509   \n",
      "\n",
      "                                    Dataset2 Testing Accuracy  \n",
      "DT using gini (without pruning)                      0.980488  \n",
      "DT using gini (with pruning)                         0.834146  \n",
      "DT using entropy (without pruning)                   0.960976  \n",
      "DT using entropy (with pruning)                      0.887805  \n"
     ]
    }
   ],
   "source": [
    "\n",
    "def evaluate_model(clf, X_train, y_train, X_test, y_test):\n",
    "    clf.fit(X_train, y_train)\n",
    "    train_acc = accuracy_score(y_train, clf.predict(X_train))\n",
    "    test_acc = accuracy_score(y_test, clf.predict(X_test))\n",
    "    return train_acc, test_acc\n",
    "\n",
    "# Evaluate all\n",
    "results = {\n",
    "    \"DT using gini (without pruning)\": [\n",
    "        *evaluate_model(gini, df1x_train, df1y_train, df1x_test, df1y_test),\n",
    "        *evaluate_model(gini, df2x_train, df2y_train, df2x_test, df2y_test)\n",
    "    ],\n",
    "    \"DT using gini (with pruning)\": [\n",
    "        *evaluate_model(giniP, df1x_train, df1y_train, df1x_test, df1y_test),\n",
    "        *evaluate_model(giniP, df2x_train, df2y_train, df2x_test, df2y_test)\n",
    "    ],\n",
    "    \"DT using entropy (without pruning)\": [\n",
    "        *evaluate_model(entropy, df1x_train, df1y_train, df1x_test, df1y_test),\n",
    "        *evaluate_model(entropy, df2x_train, df2y_train, df2x_test, df2y_test)\n",
    "    ],\n",
    "    \"DT using entropy (with pruning)\": [\n",
    "        *evaluate_model(entropyP, df1x_train, df1y_train, df1x_test, df1y_test),\n",
    "        *evaluate_model(entropyP, df2x_train, df2y_train, df2x_test, df2y_test)\n",
    "    ]\n",
    "}\n",
    "\n",
    "# Convert to DataFrame for nice table view\n",
    "results_df = pd.DataFrame(results, index=[\n",
    "    \"Dataset1 Training Accuracy\",\n",
    "    \"Dataset1 Testing Accuracy\",\n",
    "    \"Dataset2 Training Accuracy\",\n",
    "    \"Dataset2 Testing Accuracy\"\n",
    "]).T\n",
    "\n",
    "print(results_df)"
   ]
  },
  {
   "cell_type": "code",
   "execution_count": 12,
   "id": "e11f0eb0",
   "metadata": {},
   "outputs": [
    {
     "name": "stdout",
     "output_type": "stream",
     "text": [
      "Correctly Predict: 182 Out 205\n",
      "Wrong Predictions: 23 Out 205\n"
     ]
    }
   ],
   "source": [
    "entropyP.fit(df2x_train, df2y_train)\n",
    "y_pred = entropyP.predict(df2x_test)\n",
    "\n",
    "\n",
    "correct = (y_pred == df2y_test).sum()\n",
    "wrong = (y_pred != df2y_test).sum()\n",
    "total = len(df2y_test)\n",
    "\n",
    "print(f\"Correctly Predict: {correct} Out {total}\")\n",
    "print(f\"Wrong Predictions: {wrong} Out {total}\")\n",
    "\n",
    "#"
   ]
  }
 ],
 "metadata": {
  "kernelspec": {
   "display_name": ".venv (3.13.6)",
   "language": "python",
   "name": "python3"
  },
  "language_info": {
   "codemirror_mode": {
    "name": "ipython",
    "version": 3
   },
   "file_extension": ".py",
   "mimetype": "text/x-python",
   "name": "python",
   "nbconvert_exporter": "python",
   "pygments_lexer": "ipython3",
   "version": "3.13.6"
  }
 },
 "nbformat": 4,
 "nbformat_minor": 5
}

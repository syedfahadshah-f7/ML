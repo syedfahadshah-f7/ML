{
 "cells": [
  {
   "cell_type": "code",
   "execution_count": 1,
   "id": "87a0d2e5",
   "metadata": {},
   "outputs": [
    {
     "name": "stdout",
     "output_type": "stream",
     "text": [
      "    Feature_1  Feature_2  Feature_3  Feature_4  Feature_5  Feature_6  \\\n",
      "0          52         93         15         72         61         21   \n",
      "1          88         24          3         22         53          2   \n",
      "2          64         60         21         33         76         58   \n",
      "3          59         42         92         60         80         15   \n",
      "4          51         55         64          3         51          7   \n",
      "5           4         89         60         14          9         90   \n",
      "6          60         71         44          8         47         35   \n",
      "7           4          2          6         54          4         54   \n",
      "8          44         34         74         62         14         95   \n",
      "9          87         62         40         85         80         82   \n",
      "10         60         41         29         15         45         65   \n",
      "11          1          8         88         63         11         81   \n",
      "12          5         41         28          7         73         72   \n",
      "13         23         62         88         37         99         44   \n",
      "14         99         47         78          3          1          5   \n",
      "15         79         15         90         42         77         51   \n",
      "16          4         94         23         15         43         29   \n",
      "17         59         86         28         66         42         45   \n",
      "18         28         44         84         30         62         75   \n",
      "19          1         27         62         77          3         70   \n",
      "\n",
      "    Feature_7  Feature_8  Feature_9  Feature_10  \n",
      "0          83         87         75          75  \n",
      "1          88         30         38           2  \n",
      "2          22         89         49          91  \n",
      "3          62         62         47          62  \n",
      "4          21         73         39          18  \n",
      "5          53          2         84          92  \n",
      "6          78         81         36          50  \n",
      "7          93         63         18          90  \n",
      "8          48         15         72          78  \n",
      "9          53         24         26          89  \n",
      "10         89         71          9          88  \n",
      "11          8         35         35          33  \n",
      "12         12         34         33          48  \n",
      "13         86         91         35          65  \n",
      "14         90         14         27           9  \n",
      "15         63         96         52          96  \n",
      "16         36         13         32          71  \n",
      "17         62         57          6          28  \n",
      "18         92         89         62          97  \n",
      "19         72         27          9          62  \n"
     ]
    }
   ],
   "source": [
    "import pandas as pd\n",
    "import numpy as np\n",
    "\n",
    "# Set random seed for reproducibility\n",
    "np.random.seed(42)\n",
    "\n",
    "# Create dummy DataFrame\n",
    "df = pd.DataFrame(\n",
    "    np.random.randint(1, 100, size=(20, 10)),   # 20 rows × 10 features\n",
    "    columns=[f'Feature_{i}' for i in range(1, 11)]  # Feature_1 ... Feature_10\n",
    ")\n",
    "\n",
    "print(df)\n"
   ]
  },
  {
   "cell_type": "code",
   "execution_count": 2,
   "id": "d4ab3f7e",
   "metadata": {},
   "outputs": [
    {
     "data": {
      "text/plain": [
       "Feature_1     43.60\n",
       "Feature_2     49.85\n",
       "Feature_3     50.85\n",
       "Feature_4     38.40\n",
       "Feature_5     46.55\n",
       "Feature_6     49.80\n",
       "Feature_7     60.55\n",
       "Feature_8     52.65\n",
       "Feature_9     39.20\n",
       "Feature_10    62.20\n",
       "dtype: float64"
      ]
     },
     "execution_count": 2,
     "metadata": {},
     "output_type": "execute_result"
    }
   ],
   "source": [
    "df.mean()"
   ]
  },
  {
   "cell_type": "code",
   "execution_count": 4,
   "id": "74ba9cda",
   "metadata": {},
   "outputs": [
    {
     "data": {
      "text/plain": [
       "Feature_1      4.0\n",
       "Feature_2     41.0\n",
       "Feature_3     28.0\n",
       "Feature_4      3.0\n",
       "Feature_5     80.0\n",
       "Feature_6      2.0\n",
       "Feature_7     53.0\n",
       "Feature_8     89.0\n",
       "Feature_9      9.0\n",
       "Feature_10    62.0\n",
       "Name: 0, dtype: float64"
      ]
     },
     "execution_count": 4,
     "metadata": {},
     "output_type": "execute_result"
    }
   ],
   "source": [
    "df.mode().iloc[0]"
   ]
  },
  {
   "cell_type": "code",
   "execution_count": 5,
   "id": "1ef9b8d8",
   "metadata": {},
   "outputs": [
    {
     "data": {
      "text/plain": [
       "Feature_1     51.5\n",
       "Feature_2     45.5\n",
       "Feature_3     52.0\n",
       "Feature_4     35.0\n",
       "Feature_5     49.0\n",
       "Feature_6     52.5\n",
       "Feature_7     62.5\n",
       "Feature_8     59.5\n",
       "Feature_9     35.5\n",
       "Feature_10    68.0\n",
       "dtype: float64"
      ]
     },
     "execution_count": 5,
     "metadata": {},
     "output_type": "execute_result"
    }
   ],
   "source": [
    "df.median(numeric_only = True)"
   ]
  },
  {
   "cell_type": "code",
   "execution_count": null,
   "id": "78cfc9b0",
   "metadata": {},
   "outputs": [],
   "source": [
    "import pandas as pd\n",
    "import numpy as np\n",
    "import matplotlib.pyplot as plt\n",
    "import seaborn as sns\n",
    "import math\n",
    "import copy\n",
    "import re\n",
    "from sklearn.preprocessing import LabelEncoder,StandardScaler,MinMaxScaler,PowerTransformer\n",
    "from sklearn.metrics import accuracy_score,confusion_matrix\n",
    "from sklearn.neighbors import KNeighborsClassifier\n",
    "from sklearn.tree import DecisionTreeClassifier,plot_tree\n",
    "from sklearn.model_selection import train_test_split, LeaveOneOut, KFold, cross_val_score\n",
    "from sklearn.ensemble import VotingClassifier,BaggingClassifier,AdaBoostClassifier,RandomForestClassifier\n",
    "from sklearn.utils import resample\n",
    "from scipy.stats import zscore\n",
    "from itertools import product\n"
   ]
  },
  {
   "cell_type": "code",
   "execution_count": null,
   "id": "84ef4b6f",
   "metadata": {},
   "outputs": [],
   "source": [
    "weight =[]\n",
    "knn = KNeighborsClassifier(n_neighbors=5)\n",
    "DT = DecisionTreeClassifier(criterion='gini',max_depth=5,ccp_alpha=0.015,random_state=42)\n",
    "VC = VotingClassifier(estimators=[('knn',knn),('dt',DT)],voting='hard',weights=weight)\n",
    "ada = AdaBoostClassifier(estimator=[('knn',knn),('dt',DT)],n_estimators=50,learning_rate=0.5,random_state=42)\n",
    "bg = BaggingClassifier(estimator=[('knn',knn),('dt',DT)],n_estimators=50,bootstrap=True,bootstrap_features=False,random_state=42)"
   ]
  },
  {
   "cell_type": "code",
   "execution_count": null,
   "id": "41849665",
   "metadata": {},
   "outputs": [],
   "source": [
    "# Updating Weights\n",
    "from itertools import product\n",
    "best_weights =[]\n",
    "best_acc =0\n",
    "for weight in product([1,2,3],repeat = 3):\n",
    "    voting_soft = VotingClassifier(\n",
    "        estimators=[(\"dt\", dt), (\"knn\", knn), (\"rf\", rf), (\"xgb\", xgb)],\n",
    "        voting=\"soft\",weights=weight\n",
    "    )\n",
    "    voting_soft.fit(X_train, y_train)\n",
    "    soft_acc = accuracy_score(y_test, voting_soft.predict(X_test))\n",
    "    if soft_acc > best_acc:\n",
    "        best_acc = soft_acc\n",
    "        best_weight = weight\n",
    "    \n",
    "print(f\"Best Weights: {best_weight}, Best Accuracy: {best_acc}\") \n"
   ]
  },
  {
   "cell_type": "code",
   "execution_count": null,
   "id": "cc433a5b",
   "metadata": {},
   "outputs": [],
   "source": [
    "# Visualize the tree\n",
    "plt.figure(figsize=(10,6))\n",
    "plot_tree(dt, feature_names=X.columns, class_names=['No', 'Yes'], filled=True)\n",
    "# plot_tree(dt,feature_names = X.columns, class_names = ['No','Yes'],filled= True )\n",
    "plt.show()"
   ]
  },
  {
   "cell_type": "code",
   "execution_count": null,
   "id": "9e34868a",
   "metadata": {},
   "outputs": [],
   "source": []
  }
 ],
 "metadata": {
  "kernelspec": {
   "display_name": ".venv (3.13.6)",
   "language": "python",
   "name": "python3"
  },
  "language_info": {
   "codemirror_mode": {
    "name": "ipython",
    "version": 3
   },
   "file_extension": ".py",
   "mimetype": "text/x-python",
   "name": "python",
   "nbconvert_exporter": "python",
   "pygments_lexer": "ipython3",
   "version": "3.13.6"
  }
 },
 "nbformat": 4,
 "nbformat_minor": 5
}

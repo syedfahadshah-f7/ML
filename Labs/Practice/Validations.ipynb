{
 "cells": [
  {
   "cell_type": "code",
   "execution_count": 1,
   "id": "75e04842-74e1-445d-82f1-8b468ab7cbd3",
   "metadata": {},
   "outputs": [
    {
     "name": "stdout",
     "output_type": "stream",
     "text": [
      "Accuracy (Train-Test Split): 1.0\n"
     ]
    }
   ],
   "source": [
    "from sklearn.model_selection import train_test_split\n",
    "from sklearn.datasets import load_iris\n",
    "from sklearn.linear_model import LogisticRegression\n",
    "from sklearn.metrics import accuracy_score\n",
    "\n",
    "# Load dataset\n",
    "iris = load_iris()\n",
    "X, y = iris.data, iris.target\n",
    "\n",
    "# Split dataset (80% train, 20% test)\n",
    "X_train, X_test, y_train, y_test = train_test_split(X, y, test_size=0.2, random_state=42)\n",
    "\n",
    "# Train model\n",
    "model = LogisticRegression(max_iter=200)\n",
    "model.fit(X_train, y_train)\n",
    "\n",
    "# Evaluate\n",
    "y_pred = model.predict(X_test)\n",
    "print(\"Accuracy (Train-Test Split):\", accuracy_score(y_test, y_pred))\n"
   ]
  },
  {
   "cell_type": "code",
   "execution_count": 2,
   "id": "16f94522-2c0c-4707-923b-e84275c92d1f",
   "metadata": {},
   "outputs": [
    {
     "name": "stdout",
     "output_type": "stream",
     "text": [
      "Accuracy per fold: [1.         1.         0.93333333 0.96666667 0.96666667]\n",
      "Average Accuracy (K-Fold): 0.9733333333333334\n"
     ]
    }
   ],
   "source": [
    "from sklearn.model_selection import KFold, cross_val_score\n",
    "from sklearn.datasets import load_iris\n",
    "from sklearn.linear_model import LogisticRegression\n",
    "\n",
    "# Load dataset\n",
    "iris = load_iris()\n",
    "X, y = iris.data, iris.target\n",
    "\n",
    "# Define model\n",
    "model = LogisticRegression(max_iter=200)\n",
    "\n",
    "# Apply 5-Fold Cross Validation\n",
    "kf = KFold(n_splits=5, shuffle=True, random_state=42)\n",
    "scores = cross_val_score(model, X, y, cv=kf)\n",
    "\n",
    "print(\"Accuracy per fold:\", scores)\n",
    "print(\"Average Accuracy (K-Fold):\", scores.mean())\n"
   ]
  },
  {
   "cell_type": "code",
   "execution_count": 3,
   "id": "9734ed65-bd82-460a-93d0-66125e2be97f",
   "metadata": {},
   "outputs": [
    {
     "name": "stdout",
     "output_type": "stream",
     "text": [
      "Number of iterations: 150\n",
      "Average Accuracy (LOOCV): 0.9666666666666667\n"
     ]
    }
   ],
   "source": [
    "from sklearn.model_selection import LeaveOneOut, cross_val_score\n",
    "from sklearn.datasets import load_iris\n",
    "from sklearn.linear_model import LogisticRegression\n",
    "\n",
    "# Load dataset\n",
    "iris = load_iris()\n",
    "X, y = iris.data, iris.target\n",
    "\n",
    "# Define model\n",
    "model = LogisticRegression(max_iter=200)\n",
    "\n",
    "# Leave-One-Out CV\n",
    "loo = LeaveOneOut()\n",
    "scores = cross_val_score(model, X, y, cv=loo)\n",
    "\n",
    "print(\"Number of iterations:\", len(scores))   # equal to number of samples\n",
    "print(\"Average Accuracy (LOOCV):\", scores.mean())\n"
   ]
  },
  {
   "cell_type": "code",
   "execution_count": 4,
   "id": "325c69d1-4353-4c85-800c-24d249ede33a",
   "metadata": {},
   "outputs": [
    {
     "name": "stdout",
     "output_type": "stream",
     "text": [
      "Fold 1 Accuracy: 1.0\n",
      "Fold 2 Accuracy: 1.0\n",
      "Fold 3 Accuracy: 0.9333333333333333\n",
      "Fold 4 Accuracy: 0.9666666666666667\n",
      "Fold 5 Accuracy: 0.9666666666666667\n",
      "Average Accuracy (K-Fold): 0.9733333333333334\n"
     ]
    }
   ],
   "source": [
    "from sklearn.model_selection import KFold\n",
    "from sklearn.datasets import load_iris\n",
    "from sklearn.linear_model import LogisticRegression\n",
    "from sklearn.metrics import accuracy_score\n",
    "\n",
    "# Dataset\n",
    "iris = load_iris()\n",
    "X, y = iris.data, iris.target\n",
    "\n",
    "kf = KFold(n_splits=5, shuffle=True, random_state=42)\n",
    "model = LogisticRegression(max_iter=200)\n",
    "\n",
    "fold = 1\n",
    "accuracies = []\n",
    "\n",
    "for train_index, test_index in kf.split(X):\n",
    "    X_train, X_test = X[train_index], X[test_index]\n",
    "    y_train, y_test = y[train_index], y[test_index]\n",
    "\n",
    "    # Train on training folds\n",
    "    model.fit(X_train, y_train)\n",
    "    \n",
    "    # Predict on test fold\n",
    "    y_pred = model.predict(X_test)\n",
    "    acc = accuracy_score(y_test, y_pred)\n",
    "    accuracies.append(acc)\n",
    "\n",
    "    print(f\"Fold {fold} Accuracy:\", acc)\n",
    "    fold += 1\n",
    "\n",
    "print(\"Average Accuracy (K-Fold):\", sum(accuracies)/len(accuracies))\n"
   ]
  },
  {
   "cell_type": "code",
   "execution_count": 5,
   "id": "e091288e-3b72-4f99-8f02-8b52582346d7",
   "metadata": {},
   "outputs": [
    {
     "name": "stdout",
     "output_type": "stream",
     "text": [
      "Iteration 1: Accuracy = 1.0\n",
      "Iteration 2: Accuracy = 1.0\n",
      "Iteration 3: Accuracy = 1.0\n",
      "Iteration 4: Accuracy = 1.0\n",
      "Iteration 5: Accuracy = 1.0\n",
      "Average Accuracy (LOOCV): 0.9666666666666667\n"
     ]
    }
   ],
   "source": [
    "from sklearn.model_selection import LeaveOneOut\n",
    "from sklearn.datasets import load_iris\n",
    "from sklearn.linear_model import LogisticRegression\n",
    "from sklearn.metrics import accuracy_score\n",
    "\n",
    "iris = load_iris()\n",
    "X, y = iris.data, iris.target\n",
    "\n",
    "loo = LeaveOneOut()\n",
    "model = LogisticRegression(max_iter=200)\n",
    "\n",
    "accuracies = []\n",
    "i = 1\n",
    "for train_index, test_index in loo.split(X):\n",
    "    X_train, X_test = X[train_index], X[test_index]\n",
    "    y_train, y_test = y[train_index], y[test_index]\n",
    "\n",
    "    model.fit(X_train, y_train)   # train on n-1 samples\n",
    "    y_pred = model.predict(X_test)  # predict on the 1 left-out sample\n",
    "\n",
    "    acc = accuracy_score(y_test, y_pred)\n",
    "    accuracies.append(acc)\n",
    "\n",
    "    if i <= 5:  # just print first 5 iterations\n",
    "        print(f\"Iteration {i}: Accuracy = {acc}\")\n",
    "    i += 1\n",
    "\n",
    "print(\"Average Accuracy (LOOCV):\", sum(accuracies)/len(accuracies))\n"
   ]
  }
 ],
 "metadata": {
  "kernelspec": {
   "display_name": "Python 3 (ipykernel)",
   "language": "python",
   "name": "python3"
  },
  "language_info": {
   "codemirror_mode": {
    "name": "ipython",
    "version": 3
   },
   "file_extension": ".py",
   "mimetype": "text/x-python",
   "name": "python",
   "nbconvert_exporter": "python",
   "pygments_lexer": "ipython3",
   "version": "3.13.6"
  }
 },
 "nbformat": 4,
 "nbformat_minor": 5
}

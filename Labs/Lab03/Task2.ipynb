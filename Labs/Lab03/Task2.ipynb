{
 "cells": [
  {
   "cell_type": "code",
   "execution_count": 63,
   "id": "00907ed1",
   "metadata": {},
   "outputs": [],
   "source": [
    "import pandas as pd\n",
    "from sklearn.model_selection import train_test_split\n",
    "from sklearn.metrics import confusion_matrix,accuracy_score\n",
    "import copy\n",
    "import numpy as np\n",
    "from sklearn.neighbors import KNeighborsClassifier"
   ]
  },
  {
   "cell_type": "code",
   "execution_count": 64,
   "id": "11ab7c62",
   "metadata": {},
   "outputs": [
    {
     "name": "stdout",
     "output_type": "stream",
     "text": [
      "Confusion Matrix :\n",
      " [[10  0  0]\n",
      " [ 0  9  0]\n",
      " [ 0  0 11]]\n"
     ]
    }
   ],
   "source": [
    "\n",
    "df = pd.read_csv(r\"D:\\Sem 4\\ML LABS\\DataSets\\iris.csv\")\n",
    "y = df.pop(\"species\")\n",
    "X = df\n",
    "knn = KNeighborsClassifier(n_neighbors=5)\n",
    "xtrain,xtest,ytrain,ytest = train_test_split(X,y,train_size=0.8,random_state=42)\n",
    "knn.fit(xtrain,ytrain)\n",
    "ypred = knn.predict(xtest)\n",
    "# display(xtest)\n",
    "print(f\"Confusion Matrix :\\n {confusion_matrix(ypred,ytest)}\")\n",
    "# print(pd.Series(data['target']).unique())\n"
   ]
  },
  {
   "cell_type": "code",
   "execution_count": 70,
   "id": "4386cff4",
   "metadata": {},
   "outputs": [],
   "source": [
    "import pandas as pd\n",
    "\n",
    "def chi_squared(x, y):\n",
    "    return (x - y) ** 2 / (x + y) if (x + y) != 0 else 0  \n",
    "\n",
    "def Assign_label(data, sums, k):\n",
    "    temp = data.copy(deep=True)\n",
    "    temp[\"sums\"] = sums\n",
    "    temp = temp.sort_values(by=\"sums\", ascending=True)\n",
    "\n",
    "    labels = pd.Series(data['species']).unique()\n",
    "    max_labels = {}\n",
    "    for i in range(len(labels)):\n",
    "        max_labels[labels[i]] = 0\n",
    "\n",
    "    for i in range(k):\n",
    "        sp = temp.iloc[i]['species']   \n",
    "        max_labels[sp] += 1\n",
    "\n",
    "    return max(max_labels, key=max_labels.get)\n",
    "\n",
    "def Predict(xtrain, ytrain, xt, k):\n",
    "    data = pd.concat([xtrain, ytrain], axis=1)\n",
    "    y = []\n",
    "    cols = xt.columns\n",
    "\n",
    "\n",
    "    for j in range(xt.shape[0]):  \n",
    "        sums = []\n",
    "        for i in range(data.shape[0]):  \n",
    "            sumcols = 0\n",
    "            for col in cols:\n",
    "                sumcols += chi_squared(data.iloc[i][col], xt.iloc[j][col])\n",
    "            sums.append(sumcols)\n",
    "\n",
    "        labeled = Assign_label(data, sums, k)\n",
    "        y.append(labeled)   \n",
    "\n",
    "    return y\n"
   ]
  },
  {
   "cell_type": "code",
   "execution_count": 72,
   "id": "6f79b7f2",
   "metadata": {},
   "outputs": [
    {
     "name": "stdout",
     "output_type": "stream",
     "text": [
      "Accuracy Score :\n",
      " [[10  0  0]\n",
      " [ 0  9  0]\n",
      " [ 0  0 11]]\n"
     ]
    }
   ],
   "source": [
    "Y = Predict(xtrain,ytrain,xtest,5)\n",
    "print(f\"Accuracy Score :\\n {confusion_matrix(Y,ypred)}\")"
   ]
  }
 ],
 "metadata": {
  "kernelspec": {
   "display_name": ".venv (3.13.6)",
   "language": "python",
   "name": "python3"
  },
  "language_info": {
   "codemirror_mode": {
    "name": "ipython",
    "version": 3
   },
   "file_extension": ".py",
   "mimetype": "text/x-python",
   "name": "python",
   "nbconvert_exporter": "python",
   "pygments_lexer": "ipython3",
   "version": "3.13.6"
  }
 },
 "nbformat": 4,
 "nbformat_minor": 5
}
